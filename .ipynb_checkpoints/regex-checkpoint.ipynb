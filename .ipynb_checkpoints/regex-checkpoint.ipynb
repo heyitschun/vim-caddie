{
 "cells": [
  {
   "cell_type": "code",
   "execution_count": 66,
   "metadata": {},
   "outputs": [],
   "source": [
    "import re\n",
    "from collections import OrderedDict\n",
    "import pathlib"
   ]
  },
  {
   "cell_type": "code",
   "execution_count": 205,
   "metadata": {},
   "outputs": [],
   "source": [
    "def check_if_lackey_task(line):\n",
    "    \"\"\"Returns line if it is a valid Lackey task.\"\"\"\n",
    "    pattern = \"#\\s*(FIX|FEAT)(?s).*\"\n",
    "    line = re.match(pattern, line)\n",
    "\n",
    "def splitter(pattern, str):\n",
    "    chunks = re.split(pattern, str)\n",
    "    print(chunks[-1])\n",
    "    \n",
    "def tag_extract(pattern, string):\n",
    "    \"\"\"Returns t\"\"\"\n",
    "    tag = re.findall(pattern, string)\n",
    "    if tag:\n",
    "        return tag\n",
    "    return None"
   ]
  },
  {
   "cell_type": "code",
   "execution_count": 198,
   "metadata": {},
   "outputs": [],
   "source": [
    "s = \"# FIX: add some feature here\""
   ]
  },
  {
   "cell_type": "code",
   "execution_count": 199,
   "metadata": {},
   "outputs": [],
   "source": [
    "tags = \"|\".join([\"DOCS\", \"FEAT\", \"FIX\"])"
   ]
  },
  {
   "cell_type": "code",
   "execution_count": 200,
   "metadata": {},
   "outputs": [
    {
     "data": {
      "text/plain": [
       "'#*\\\\s*(DOCS|FEAT|FIX)\\\\s*:*\\\\s*'"
      ]
     },
     "execution_count": 200,
     "metadata": {},
     "output_type": "execute_result"
    }
   ],
   "source": [
    "split_pat = r\"#*\\s*(\"+tags+\")\\s*:*\\s*\"\n",
    "split_pat"
   ]
  },
  {
   "cell_type": "code",
   "execution_count": 201,
   "metadata": {},
   "outputs": [
    {
     "data": {
      "text/plain": [
       "'(DOCS|FEAT|FIX)(.*?)'"
      ]
     },
     "execution_count": 201,
     "metadata": {},
     "output_type": "execute_result"
    }
   ],
   "source": [
    "tag_pat = r\"(\"+tags+\")(.*?)\"\n",
    "tag_pat"
   ]
  },
  {
   "cell_type": "code",
   "execution_count": 202,
   "metadata": {},
   "outputs": [
    {
     "name": "stdout",
     "output_type": "stream",
     "text": [
      "add some feature here\n"
     ]
    }
   ],
   "source": [
    "splitter(split_pat, s)"
   ]
  },
  {
   "cell_type": "code",
   "execution_count": 203,
   "metadata": {},
   "outputs": [],
   "source": [
    "t = tag_extract(tag_pat, s)"
   ]
  },
  {
   "cell_type": "code",
   "execution_count": 204,
   "metadata": {},
   "outputs": [
    {
     "data": {
      "text/plain": [
       "[('FIX', '')]"
      ]
     },
     "execution_count": 204,
     "metadata": {},
     "output_type": "execute_result"
    }
   ],
   "source": [
    "t"
   ]
  },
  {
   "cell_type": "code",
   "execution_count": null,
   "metadata": {},
   "outputs": [],
   "source": []
  },
  {
   "cell_type": "code",
   "execution_count": 73,
   "metadata": {},
   "outputs": [],
   "source": [
    "import os\n",
    "import base64"
   ]
  },
  {
   "cell_type": "code",
   "execution_count": 74,
   "metadata": {},
   "outputs": [],
   "source": [
    "cwd = os.getcwd()"
   ]
  },
  {
   "cell_type": "code",
   "execution_count": 75,
   "metadata": {},
   "outputs": [],
   "source": [
    "def _move_up(path):\n",
    "    \"\"\"Move up one directory level.\"\"\"\n",
    "    paths = os.path.split(path)\n",
    "    if paths[1] == \"\":\n",
    "        return 0\n",
    "    return paths[0]"
   ]
  },
  {
   "cell_type": "code",
   "execution_count": 76,
   "metadata": {},
   "outputs": [
    {
     "data": {
      "text/plain": [
       "'H:\\\\Python\\\\vim-lackey'"
      ]
     },
     "execution_count": 76,
     "metadata": {},
     "output_type": "execute_result"
    }
   ],
   "source": [
    "cwd"
   ]
  },
  {
   "cell_type": "code",
   "execution_count": 77,
   "metadata": {},
   "outputs": [],
   "source": [
    "def _check_lackey_json(dir):\n",
    "    \"\"\"Check if `lackey.json` exists in directory.\"\"\"\n",
    "    files = os.listdir(dir)\n",
    "    if \"lackey.json\" in files:\n",
    "        return dir\n",
    "    else:\n",
    "        next_dir = _move_up(dir)\n",
    "        if next_dir == 0:\n",
    "            print(\"lackey.json not found\")\n",
    "            \n",
    "            return False\n",
    "        else:\n",
    "            return _check_lackey_json(next_dir)"
   ]
  },
  {
   "cell_type": "code",
   "execution_count": 78,
   "metadata": {},
   "outputs": [],
   "source": [
    "p = _check_lackey_json(cwd)"
   ]
  },
  {
   "cell_type": "code",
   "execution_count": 79,
   "metadata": {},
   "outputs": [
    {
     "data": {
      "text/plain": [
       "'H:\\\\Python\\\\vim-lackey'"
      ]
     },
     "execution_count": 79,
     "metadata": {},
     "output_type": "execute_result"
    }
   ],
   "source": [
    "p"
   ]
  },
  {
   "cell_type": "code",
   "execution_count": 80,
   "metadata": {},
   "outputs": [],
   "source": [
    "ignores = [\"__pycache__\", \"node_modules\", \"venv\", \"virtualenv\"]\n",
    "# ignores = []"
   ]
  },
  {
   "cell_type": "code",
   "execution_count": 81,
   "metadata": {},
   "outputs": [],
   "source": [
    "langs = {\"py\": [\"#\"], \"js\": [\"//\"]}"
   ]
  },
  {
   "cell_type": "code",
   "execution_count": 82,
   "metadata": {},
   "outputs": [
    {
     "name": "stdout",
     "output_type": "stream",
     "text": [
      "H:\\Python\\vim-lackey ['.gitignore', 'example.txt', 'lackey.json', 'lackey.json.bak', 'LICENSE', 'README.md', 'regex.ipynb', 'TODO.md']\n",
      "H:\\Python\\vim-lackey\\doc ['lackey.txt', 'tags']\n",
      "H:\\Python\\vim-lackey\\plugin ['lackey.vim']\n",
      "H:\\Python\\vim-lackey\\python ['lackey.py', 'source.py']\n"
     ]
    }
   ],
   "source": [
    "file_paths = []\n",
    "\n",
    "for r, dirs, files in os.walk(p, topdown=True):\n",
    "#     if not re.match(\"^[^.].*$\", os.path.split(r)[1]):\n",
    "#         print(\"skipping\", r)\n",
    "#         continue\n",
    "    dirs[:] = [d for d in dirs if re.match(\"^[^.].*$\", d) and d not in ignores]\n",
    "    print(r, files)\n",
    "    \n",
    "    for f in files:\n",
    "        file_paths.append(os.path.normpath(os.path.join(r, f)))"
   ]
  },
  {
   "cell_type": "code",
   "execution_count": 83,
   "metadata": {},
   "outputs": [
    {
     "data": {
      "text/plain": [
       "['H:\\\\Python\\\\vim-lackey\\\\.gitignore',\n",
       " 'H:\\\\Python\\\\vim-lackey\\\\example.txt',\n",
       " 'H:\\\\Python\\\\vim-lackey\\\\lackey.json',\n",
       " 'H:\\\\Python\\\\vim-lackey\\\\lackey.json.bak',\n",
       " 'H:\\\\Python\\\\vim-lackey\\\\LICENSE',\n",
       " 'H:\\\\Python\\\\vim-lackey\\\\README.md',\n",
       " 'H:\\\\Python\\\\vim-lackey\\\\regex.ipynb',\n",
       " 'H:\\\\Python\\\\vim-lackey\\\\TODO.md',\n",
       " 'H:\\\\Python\\\\vim-lackey\\\\doc\\\\lackey.txt',\n",
       " 'H:\\\\Python\\\\vim-lackey\\\\doc\\\\tags',\n",
       " 'H:\\\\Python\\\\vim-lackey\\\\plugin\\\\lackey.vim',\n",
       " 'H:\\\\Python\\\\vim-lackey\\\\python\\\\lackey.py',\n",
       " 'H:\\\\Python\\\\vim-lackey\\\\python\\\\source.py']"
      ]
     },
     "execution_count": 83,
     "metadata": {},
     "output_type": "execute_result"
    }
   ],
   "source": [
    "file_paths"
   ]
  },
  {
   "cell_type": "code",
   "execution_count": 84,
   "metadata": {},
   "outputs": [],
   "source": [
    "a = re.match(\"^[^.].*$\", \"git\")"
   ]
  },
  {
   "cell_type": "code",
   "execution_count": 85,
   "metadata": {},
   "outputs": [
    {
     "data": {
      "text/plain": [
       "'H:\\\\Python\\\\vim-lackey'"
      ]
     },
     "execution_count": 85,
     "metadata": {},
     "output_type": "execute_result"
    }
   ],
   "source": [
    "os.getcwd()"
   ]
  },
  {
   "cell_type": "code",
   "execution_count": 86,
   "metadata": {},
   "outputs": [
    {
     "data": {
      "text/plain": [
       "('/python', 'source.py')"
      ]
     },
     "execution_count": 86,
     "metadata": {},
     "output_type": "execute_result"
    }
   ],
   "source": [
    "os.path.split(\"/python/source.py\")"
   ]
  },
  {
   "cell_type": "code",
   "execution_count": 87,
   "metadata": {},
   "outputs": [
    {
     "name": "stdout",
     "output_type": "stream",
     "text": [
      "H:\\Python\\vim-lackey\n",
      "H:\\Python\\vim-lackey\\python\\source.py\n",
      ".\n",
      "H:\\Python\\vim-lackey\\doc\\lackey.txt\n",
      ".\n"
     ]
    }
   ],
   "source": [
    "print(p)\n",
    "\n",
    "print(os.path.realpath(os.path.join(p+\"/python/source.py\")))\n",
    "\n",
    "print(os.path.relpath(os.path.join(\"/python/source.py\", p)))\n",
    "\n",
    "print(os.path.abspath(os.path.join(p, \"doc\", \"lackey.txt\")))\n",
    "\n",
    "print(os.path.relpath(os.path.join(\"/doc/lackey.txt\", p)))"
   ]
  },
  {
   "cell_type": "code",
   "execution_count": 88,
   "metadata": {},
   "outputs": [],
   "source": [
    "s = os.path.relpath(file_paths[9], start=cwd)"
   ]
  },
  {
   "cell_type": "code",
   "execution_count": 89,
   "metadata": {},
   "outputs": [],
   "source": [
    "raw_s = r\"{}\".format(s.replace(\"\\\\\", \"/\"))"
   ]
  },
  {
   "cell_type": "code",
   "execution_count": 90,
   "metadata": {},
   "outputs": [
    {
     "data": {
      "text/plain": [
       "'doc/tags'"
      ]
     },
     "execution_count": 90,
     "metadata": {},
     "output_type": "execute_result"
    }
   ],
   "source": [
    "raw_s"
   ]
  },
  {
   "cell_type": "code",
   "execution_count": null,
   "metadata": {},
   "outputs": [],
   "source": []
  },
  {
   "cell_type": "code",
   "execution_count": null,
   "metadata": {},
   "outputs": [],
   "source": []
  },
  {
   "cell_type": "code",
   "execution_count": null,
   "metadata": {},
   "outputs": [],
   "source": []
  },
  {
   "cell_type": "code",
   "execution_count": null,
   "metadata": {},
   "outputs": [],
   "source": []
  },
  {
   "cell_type": "code",
   "execution_count": null,
   "metadata": {},
   "outputs": [],
   "source": []
  },
  {
   "cell_type": "code",
   "execution_count": null,
   "metadata": {},
   "outputs": [],
   "source": []
  },
  {
   "cell_type": "code",
   "execution_count": null,
   "metadata": {},
   "outputs": [],
   "source": []
  },
  {
   "cell_type": "code",
   "execution_count": null,
   "metadata": {},
   "outputs": [],
   "source": []
  },
  {
   "cell_type": "code",
   "execution_count": null,
   "metadata": {},
   "outputs": [],
   "source": []
  },
  {
   "cell_type": "code",
   "execution_count": null,
   "metadata": {},
   "outputs": [],
   "source": []
  },
  {
   "cell_type": "code",
   "execution_count": null,
   "metadata": {},
   "outputs": [],
   "source": []
  },
  {
   "cell_type": "code",
   "execution_count": null,
   "metadata": {},
   "outputs": [],
   "source": []
  }
 ],
 "metadata": {
  "kernelspec": {
   "display_name": "Python 3",
   "language": "python",
   "name": "python3"
  },
  "language_info": {
   "codemirror_mode": {
    "name": "ipython",
    "version": 3
   },
   "file_extension": ".py",
   "mimetype": "text/x-python",
   "name": "python",
   "nbconvert_exporter": "python",
   "pygments_lexer": "ipython3",
   "version": "3.8.5"
  }
 },
 "nbformat": 4,
 "nbformat_minor": 4
}
